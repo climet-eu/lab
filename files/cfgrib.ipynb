{
  "metadata": {
    "language_info": {
      "codemirror_mode": {
        "name": "python",
        "version": 3
      },
      "file_extension": ".py",
      "mimetype": "text/x-python",
      "name": "python",
      "nbconvert_exporter": "python",
      "pygments_lexer": "ipython3",
      "version": "3.8"
    },
    "kernelspec": {
      "name": "python",
      "display_name": "Python (Pyodide)",
      "language": "python"
    }
  },
  "nbformat_minor": 4,
  "nbformat": 4,
  "cells": [
    {
      "cell_type": "markdown",
      "source": "# ESiWACE3 Compression Lab in WASM",
      "metadata": {
        "tags": []
      }
    },
    {
      "cell_type": "markdown",
      "source": "**Note:** This WASM-based version of the compression lab has only been tested in new Chrome and Firefox browsers.",
      "metadata": {}
    },
    {
      "cell_type": "markdown",
      "source": "## Fetch the dataset",
      "metadata": {}
    },
    {
      "cell_type": "code",
      "source": "import pyodide\n\nresponse = await pyodide.http.pyfetch(\"/files/hplp_ml_q_dx=2.0.grib\")\nwith open(\"hplp_ml_q_dx=2.0.grib\", \"wb\") as file:\n    file.write(await response.bytes())",
      "metadata": {
        "trusted": true
      },
      "execution_count": null,
      "outputs": []
    },
    {
      "cell_type": "markdown",
      "source": "## Load the dataset",
      "metadata": {}
    },
    {
      "cell_type": "code",
      "source": "import fcpy",
      "metadata": {
        "trusted": true
      },
      "execution_count": null,
      "outputs": []
    },
    {
      "cell_type": "code",
      "source": "ds = fcpy.open_dataset(\"hplp_ml_q_dx=2.0.grib\")\nds = ds[[\"q\"]]\nds",
      "metadata": {
        "trusted": true
      },
      "execution_count": null,
      "outputs": []
    },
    {
      "cell_type": "markdown",
      "source": "## Visualise the dataset",
      "metadata": {}
    },
    {
      "cell_type": "code",
      "source": "fcpy.suite.plot_spatial_single(\n    ds[\"q\"].sel(dict(hybrid=1)),\n    ds,\n    \"q\",\n    metric=\"Baseline\",\n)",
      "metadata": {
        "trusted": true
      },
      "execution_count": null,
      "outputs": []
    },
    {
      "cell_type": "markdown",
      "source": "## Run a simple compressor",
      "metadata": {}
    },
    {
      "cell_type": "code",
      "source": "compressed_linquant_2 = fcpy.suite.run_compressor_single(ds[\"q\"], fcpy.compressors.LinQuantization(), bits=2)",
      "metadata": {
        "trusted": true
      },
      "execution_count": null,
      "outputs": []
    },
    {
      "cell_type": "code",
      "source": "fcpy.suite.plot_spatial_single(\n    compressed_linquant_2.sel(dict(hybrid=1)),\n    ds,\n    \"q\",\n    metric=\"Compressed (bits=2)\",\n)",
      "metadata": {
        "trusted": true
      },
      "execution_count": null,
      "outputs": []
    },
    {
      "cell_type": "markdown",
      "source": "## Plot the simple compression error",
      "metadata": {}
    },
    {
      "cell_type": "code",
      "source": "fcpy.suite.plot_spatial_single(\n    compressed_linquant_2.sel(dict(hybrid=1)) - ds[\"q\"].sel(dict(hybrid=1)),\n    ds,\n    \"q\",\n    metric=\"Compression Error (bits=2)\",\n)",
      "metadata": {
        "trusted": true
      },
      "execution_count": null,
      "outputs": []
    },
    {
      "cell_type": "markdown",
      "source": "## Run a better compressor",
      "metadata": {}
    },
    {
      "cell_type": "code",
      "source": "compressed_linquant_24 = fcpy.suite.run_compressor_single(ds[\"q\"], fcpy.compressors.LinQuantization(), bits=24)",
      "metadata": {
        "trusted": true
      },
      "execution_count": null,
      "outputs": []
    },
    {
      "cell_type": "code",
      "source": "fcpy.suite.plot_spatial_single(\n    compressed_linquant_24.sel(dict(hybrid=1)),\n    ds,\n    \"q\",\n    metric=\"Compressed (bits=24)\",\n)",
      "metadata": {
        "trusted": true
      },
      "execution_count": null,
      "outputs": []
    },
    {
      "cell_type": "markdown",
      "source": "## Plot the better compression error",
      "metadata": {}
    },
    {
      "cell_type": "code",
      "source": "fcpy.suite.plot_spatial_single(\n    compressed_linquant_24.sel(dict(hybrid=1)) - ds[\"q\"].sel(dict(hybrid=1)),\n    ds,\n    \"q\",\n    metric=\"Compression Error (bits=24)\",\n)",
      "metadata": {
        "trusted": true
      },
      "execution_count": null,
      "outputs": []
    },
    {
      "cell_type": "code",
      "source": "",
      "metadata": {},
      "execution_count": null,
      "outputs": []
    }
  ]
}