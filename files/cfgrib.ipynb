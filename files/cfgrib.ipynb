{
  "metadata": {
    "language_info": {
      "codemirror_mode": {
        "name": "python",
        "version": 3
      },
      "file_extension": ".py",
      "mimetype": "text/x-python",
      "name": "python",
      "nbconvert_exporter": "python",
      "pygments_lexer": "ipython3",
      "version": "3.8"
    },
    "kernelspec": {
      "name": "python",
      "display_name": "Python (Pyodide)",
      "language": "python"
    }
  },
  "nbformat_minor": 4,
  "nbformat": 4,
  "cells": [
    {
      "cell_type": "markdown",
      "source": "# ESiWACE3 Compression Lab in WASM",
      "metadata": {
        "tags": []
      }
    },
    {
      "cell_type": "markdown",
      "source": "**Note:** Any changes you make to this notebook will be lost once the page is closed or refreshed. Please download any files you would like to keep.\n\n**Note:** The WASM-based version of the compression lab running inside JupyterLite has only been tested in recent Chrome, Firefox, and Safari browsers.",
      "metadata": {}
    },
    {
      "cell_type": "markdown",
      "source": "## Patch HTTP requests for Pyodide kernels in JupyterLite",
      "metadata": {}
    },
    {
      "cell_type": "code",
      "source": "import pyodide_http\npyodide_http.patch_all()",
      "metadata": {
        "trusted": true
      },
      "execution_count": null,
      "outputs": []
    },
    {
      "cell_type": "markdown",
      "source": "## Fetch an example dataset",
      "metadata": {}
    },
    {
      "cell_type": "markdown",
      "source": "### (a) Download a small dataset into memory\n\nSmall datasets can be downloaded and saved in the in-memory file system of this JupyterLite notebook. Note, however, that memory is limited.",
      "metadata": {}
    },
    {
      "cell_type": "code",
      "source": "import urllib.request\nimport shutil\n\nwith urllib.request.urlopen(\n    \"https://juntyr.github.io/field-compression-lite/files/hplp_ml_q_dx=2.0.grib\"\n) as response:\n    with open(\"hplp_ml_q_dx=2.0.grib\", \"wb\") as file:\n        shutil.copyfileobj(response, file)",
      "metadata": {
        "trusted": true
      },
      "execution_count": null,
      "outputs": []
    },
    {
      "cell_type": "markdown",
      "source": "### (b) Mount a large dataset from the user's filesystem\n\nAlternatively, you can also upload a GRIB file from your own computer. The file is mounted in read-only mode into the notebook's file system without reading the file into memory, thus allowing arbitrarily large files to be made accessible. It is worth remembering that large files can still only be read if the algorithm that processes them supports streaming or chunking and does not request to load all data into memory at the same time.\n\nIf this notebook is run inside JupyterLite, the file also never leaves your own computer.",
      "metadata": {}
    },
    {
      "cell_type": "code",
      "source": "%pip install ipyfilite\nimport ipyfilite\n\nuploader = ipyfilite.FileUploadLite()\nuploader",
      "metadata": {
        "trusted": true
      },
      "execution_count": null,
      "outputs": []
    },
    {
      "cell_type": "markdown",
      "source": "Once you have selected a file to upload, you can retrieve the path at which the file is now mounted in read-only mode.",
      "metadata": {}
    },
    {
      "cell_type": "code",
      "source": "upload_path = uploader.value[0].path if len(uploader.value) > 0 else None\nupload_path",
      "metadata": {
        "trusted": true
      },
      "execution_count": null,
      "outputs": []
    },
    {
      "cell_type": "markdown",
      "source": "### (c) Mount a large dataset from a URL that supports HTTP Range Requests\n\nSimilarly, you can also mount a file from a URL. The file is mounted in read-only mode into the notebook's file system without reading the file into memory, thus allowing arbitrarily large files to be made accessible. Note that the HTTP endpoint at the URL must support [range requests](https://developer.mozilla.org/en-US/docs/Web/HTTP/Range_requests) so that only small chunks of the file are loaded upon request. It is also worth remembering that large files can still only be read if the algorithm that processes them supports streaming or chunking and does not request to load all data into memory at the same time.",
      "metadata": {}
    },
    {
      "cell_type": "code",
      "source": "%pip install ipyfilite\nimport ipyfilite\n\nhttp_path = ipyfilite.HTTPFileIO(\n    name=\"hplp_ml_q_dx=2.0.grib\", url=\"https://juntyr.github.io/field-compression-lite/files/hplp_ml_q_dx=2.0.grib\",\n).path\nhttp_path",
      "metadata": {
        "trusted": true
      },
      "execution_count": null,
      "outputs": []
    },
    {
      "cell_type": "markdown",
      "source": "## Load the example dataset",
      "metadata": {}
    },
    {
      "cell_type": "code",
      "source": "%pip install ipywidgets\nimport fcpy",
      "metadata": {
        "trusted": true
      },
      "execution_count": null,
      "outputs": []
    },
    {
      "cell_type": "code",
      "source": "ds = fcpy.open_dataset(\n    # (a) only uncomment the following line to open the small example dataset\n    \"hplp_ml_q_dx=2.0.grib\"\n    # (b) only uncomment the following line to open your uploaded dataset\n    # str(upload_path)\n    # (c) only uncomment the following line to open the HTTP-mounted dataset\n    # str(http_path)\n)\nds = ds[[\"q\"]]\nds",
      "metadata": {
        "trusted": true
      },
      "execution_count": null,
      "outputs": []
    },
    {
      "cell_type": "markdown",
      "source": "## Plot the dataset",
      "metadata": {}
    },
    {
      "cell_type": "code",
      "source": "fcpy.suite.plot_spatial_single(\n    ds[\"q\"].sel(dict(hybrid=1)),\n    ds,\n    \"q\",\n    metric=\"Baseline\",\n)",
      "metadata": {
        "trusted": true
      },
      "execution_count": null,
      "outputs": []
    },
    {
      "cell_type": "markdown",
      "source": "## Run a simple compressor",
      "metadata": {}
    },
    {
      "cell_type": "code",
      "source": "compressed_linquant_2 = fcpy.suite.run_compressor_single(ds[\"q\"], fcpy.compressors.LinQuantization(), bits=2)",
      "metadata": {
        "trusted": true
      },
      "execution_count": null,
      "outputs": []
    },
    {
      "cell_type": "code",
      "source": "fcpy.suite.plot_spatial_single(\n    compressed_linquant_2.sel(dict(hybrid=1)),\n    ds,\n    \"q\",\n    metric=\"Compressed (bits=2)\",\n)",
      "metadata": {
        "trusted": true
      },
      "execution_count": null,
      "outputs": []
    },
    {
      "cell_type": "markdown",
      "source": "## Plot the simple compression error",
      "metadata": {}
    },
    {
      "cell_type": "code",
      "source": "fcpy.suite.plot_spatial_single(\n    compressed_linquant_2.sel(dict(hybrid=1)) - ds[\"q\"].sel(dict(hybrid=1)),\n    ds,\n    \"q\",\n    metric=\"Compression Error (bits=2)\",\n)",
      "metadata": {
        "trusted": true
      },
      "execution_count": null,
      "outputs": []
    },
    {
      "cell_type": "markdown",
      "source": "## Run a better compressor",
      "metadata": {}
    },
    {
      "cell_type": "code",
      "source": "compressed_linquant_24 = fcpy.suite.run_compressor_single(ds[\"q\"], fcpy.compressors.LinQuantization(), bits=24)",
      "metadata": {
        "trusted": true
      },
      "execution_count": null,
      "outputs": []
    },
    {
      "cell_type": "code",
      "source": "fcpy.suite.plot_spatial_single(\n    compressed_linquant_24.sel(dict(hybrid=1)),\n    ds,\n    \"q\",\n    metric=\"Compressed (bits=24)\",\n)",
      "metadata": {
        "trusted": true
      },
      "execution_count": null,
      "outputs": []
    },
    {
      "cell_type": "markdown",
      "source": "## Plot the better compression error",
      "metadata": {}
    },
    {
      "cell_type": "code",
      "source": "fcpy.suite.plot_spatial_single(\n    compressed_linquant_24.sel(dict(hybrid=1)) - ds[\"q\"].sel(dict(hybrid=1)),\n    ds,\n    \"q\",\n    metric=\"Compression Error (bits=24)\",\n)",
      "metadata": {
        "trusted": true
      },
      "execution_count": null,
      "outputs": []
    },
    {
      "cell_type": "code",
      "source": "",
      "metadata": {},
      "execution_count": null,
      "outputs": []
    }
  ]
}
