{
  "metadata": {
    "language_info": {
      "codemirror_mode": {
        "name": "python",
        "version": 3
      },
      "file_extension": ".py",
      "mimetype": "text/x-python",
      "name": "python",
      "nbconvert_exporter": "python",
      "pygments_lexer": "ipython3",
      "version": "3.8"
    },
    "kernelspec": {
      "name": "python",
      "display_name": "Python (Pyodide)",
      "language": "python"
    }
  },
  "nbformat_minor": 4,
  "nbformat": 4,
  "cells": [
    {
      "cell_type": "markdown",
      "source": "# ESiWACE3 Compression Lab in WASM",
      "metadata": {
        "tags": []
      }
    },
    {
      "cell_type": "markdown",
      "source": "**Note:** This WASM-based version of the compression lab has only been tested in new Chrome and Firefox browsers.",
      "metadata": {}
    },
    {
      "cell_type": "markdown",
      "source": "## Fetch the dataset",
      "metadata": {}
    },
    {
      "cell_type": "code",
      "source": "import pyodide\n\nresponse = await pyodide.http.pyfetch(\"https://juntyr.github.io/field-compression-lite/files/hplp_ml_q_dx=2.0.grib\")\nwith open(\"hplp_ml_q_dx=2.0.grib\", \"wb\") as file:\n    file.write(await response.bytes())",
      "metadata": {
        "trusted": true
      },
      "execution_count": null,
      "outputs": []
    },
    {
      "cell_type": "markdown",
      "source": "Alternatively, you can also upload a GRIB file from your own computer. If this notebook is run inside JupyterLite, the file never leaves your own computer.",
      "metadata": {}
    },
    {
      "cell_type": "code",
      "source": "%pip install ipyfilite\nimport ipyfilite\n\nuploader = ipyfilite.FileUploadLite()\nuploader",
      "metadata": {
        "trusted": true
      },
      "execution_count": null,
      "outputs": []
    },
    {
      "cell_type": "markdown",
      "source": "Once you have selected a file to upload, you can retrieve the path at which the file is now mounted in read-only mode.",
      "metadata": {}
    },
    {
      "cell_type": "code",
      "source": "upload_path = uploader.value[0].path if len(uploader.value) > 0 else None\nupload_path",
      "metadata": {
        "trusted": true
      },
      "execution_count": null,
      "outputs": []
    },
    {
      "cell_type": "markdown",
      "source": "## Load the dataset",
      "metadata": {}
    },
    {
      "cell_type": "code",
      "source": "import fcpy",
      "metadata": {
        "trusted": true
      },
      "execution_count": null,
      "outputs": []
    },
    {
      "cell_type": "code",
      "source": "ds = fcpy.open_dataset(\n    \"hplp_ml_q_dx=2.0.grib\" # uncomment this line to load the provided test dataset\n    # str(upload_path) # uncomment this line to load the uploaded dataset\n)\nds = ds[[\"q\"]]\nds",
      "metadata": {
        "trusted": true
      },
      "execution_count": null,
      "outputs": []
    },
    {
      "cell_type": "markdown",
      "source": "## Visualise the dataset",
      "metadata": {}
    },
    {
      "cell_type": "code",
      "source": "fcpy.suite.plot_spatial_single(\n    ds[\"q\"].sel(dict(hybrid=1)),\n    ds,\n    \"q\",\n    metric=\"Baseline\",\n)",
      "metadata": {
        "trusted": true
      },
      "execution_count": null,
      "outputs": []
    },
    {
      "cell_type": "markdown",
      "source": "## Run a simple compressor",
      "metadata": {}
    },
    {
      "cell_type": "code",
      "source": "compressed_linquant_2 = fcpy.suite.run_compressor_single(ds[\"q\"], fcpy.compressors.LinQuantization(), bits=2)",
      "metadata": {
        "trusted": true
      },
      "execution_count": null,
      "outputs": []
    },
    {
      "cell_type": "code",
      "source": "fcpy.suite.plot_spatial_single(\n    compressed_linquant_2.sel(dict(hybrid=1)),\n    ds,\n    \"q\",\n    metric=\"Compressed (bits=2)\",\n)",
      "metadata": {
        "trusted": true
      },
      "execution_count": null,
      "outputs": []
    },
    {
      "cell_type": "markdown",
      "source": "## Plot the simple compression error",
      "metadata": {}
    },
    {
      "cell_type": "code",
      "source": "fcpy.suite.plot_spatial_single(\n    compressed_linquant_2.sel(dict(hybrid=1)) - ds[\"q\"].sel(dict(hybrid=1)),\n    ds,\n    \"q\",\n    metric=\"Compression Error (bits=2)\",\n)",
      "metadata": {
        "trusted": true
      },
      "execution_count": null,
      "outputs": []
    },
    {
      "cell_type": "markdown",
      "source": "## Run a better compressor",
      "metadata": {}
    },
    {
      "cell_type": "code",
      "source": "compressed_linquant_24 = fcpy.suite.run_compressor_single(ds[\"q\"], fcpy.compressors.LinQuantization(), bits=24)",
      "metadata": {
        "trusted": true
      },
      "execution_count": null,
      "outputs": []
    },
    {
      "cell_type": "code",
      "source": "fcpy.suite.plot_spatial_single(\n    compressed_linquant_24.sel(dict(hybrid=1)),\n    ds,\n    \"q\",\n    metric=\"Compressed (bits=24)\",\n)",
      "metadata": {
        "trusted": true
      },
      "execution_count": null,
      "outputs": []
    },
    {
      "cell_type": "markdown",
      "source": "## Plot the better compression error",
      "metadata": {}
    },
    {
      "cell_type": "code",
      "source": "fcpy.suite.plot_spatial_single(\n    compressed_linquant_24.sel(dict(hybrid=1)) - ds[\"q\"].sel(dict(hybrid=1)),\n    ds,\n    \"q\",\n    metric=\"Compression Error (bits=24)\",\n)",
      "metadata": {
        "trusted": true
      },
      "execution_count": null,
      "outputs": []
    },
    {
      "cell_type": "code",
      "source": "",
      "metadata": {},
      "execution_count": null,
      "outputs": []
    }
  ]
}